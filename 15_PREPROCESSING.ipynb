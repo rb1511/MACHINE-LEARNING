{
 "cells": [
  {
   "cell_type": "code",
   "execution_count": null,
   "id": "322a95fb",
   "metadata": {},
   "outputs": [],
   "source": [
    "import numpy as np\n",
    "import pandas as pd\n",
    "import matplotlib.pyplot as plt\n",
    "import seaborn as sns\n",
    "sns.set_style('whitegrid')"
   ]
  },
  {
   "cell_type": "code",
   "execution_count": null,
   "id": "e655308e",
   "metadata": {},
   "outputs": [],
   "source": [
    "iris = pd.read_csv('iris.csv')"
   ]
  },
  {
   "cell_type": "code",
   "execution_count": null,
   "id": "cccdf4f0",
   "metadata": {},
   "outputs": [],
   "source": [
    "iris"
   ]
  },
  {
   "cell_type": "code",
   "execution_count": null,
   "id": "d25551c7",
   "metadata": {},
   "outputs": [],
   "source": [
    "iris = pd.read_csv('iris.csv',names=['sepal_len','sepal_wid','petal_len','petel_wid','label'])"
   ]
  },
  {
   "cell_type": "code",
   "execution_count": null,
   "id": "8b7c5567",
   "metadata": {},
   "outputs": [],
   "source": [
    "iris"
   ]
  },
  {
   "cell_type": "markdown",
   "id": "11b54374",
   "metadata": {},
   "source": [
    "# Encoding Categorical Variable"
   ]
  },
  {
   "cell_type": "code",
   "execution_count": null,
   "id": "16576634",
   "metadata": {},
   "outputs": [],
   "source": [
    "iris.describe(include='all')"
   ]
  },
  {
   "cell_type": "code",
   "execution_count": null,
   "id": "0ea52520",
   "metadata": {},
   "outputs": [],
   "source": [
    "from sklearn.preprocessing import LabelEncoder"
   ]
  },
  {
   "cell_type": "code",
   "execution_count": null,
   "id": "27827093",
   "metadata": {},
   "outputs": [],
   "source": [
    "le = LabelEncoder()"
   ]
  },
  {
   "cell_type": "code",
   "execution_count": null,
   "id": "0d3bd71d",
   "metadata": {},
   "outputs": [],
   "source": [
    "iris['label'] = le.fit_transform(iris['label'])"
   ]
  },
  {
   "cell_type": "code",
   "execution_count": null,
   "id": "fcb3eb97",
   "metadata": {},
   "outputs": [],
   "source": [
    "iris"
   ]
  },
  {
   "cell_type": "code",
   "execution_count": null,
   "id": "7a6db3f7",
   "metadata": {},
   "outputs": [],
   "source": [
    "y_test = iris.iloc[:,4].values"
   ]
  },
  {
   "cell_type": "code",
   "execution_count": null,
   "id": "92e1dfd5",
   "metadata": {},
   "outputs": [],
   "source": [
    "y_test"
   ]
  },
  {
   "cell_type": "code",
   "execution_count": null,
   "id": "fa547c05",
   "metadata": {},
   "outputs": [],
   "source": [
    "iris = pd.read_csv('iris.csv',names=['sepal_len','sepal_wid','patel_len','patel_wid','label'])"
   ]
  },
  {
   "cell_type": "code",
   "execution_count": null,
   "id": "31dd173d",
   "metadata": {},
   "outputs": [],
   "source": [
    "iris"
   ]
  },
  {
   "cell_type": "code",
   "execution_count": null,
   "id": "058d640c",
   "metadata": {},
   "outputs": [],
   "source": [
    "from sklearn.preprocessing import OneHotEncoder"
   ]
  },
  {
   "cell_type": "code",
   "execution_count": null,
   "id": "c6b34e41",
   "metadata": {},
   "outputs": [],
   "source": [
    "ohe = OneHotEncoder()"
   ]
  },
  {
   "cell_type": "code",
   "execution_count": null,
   "id": "1dba42b0",
   "metadata": {},
   "outputs": [],
   "source": [
    "y = iris.iloc[:,4].values"
   ]
  },
  {
   "cell_type": "code",
   "execution_count": null,
   "id": "c160feb4",
   "metadata": {},
   "outputs": [],
   "source": [
    "y"
   ]
  },
  {
   "cell_type": "code",
   "execution_count": null,
   "id": "888b256f",
   "metadata": {},
   "outputs": [],
   "source": [
    "y = y.reshape(-1,1)"
   ]
  },
  {
   "cell_type": "code",
   "execution_count": null,
   "id": "d8f1ddc1",
   "metadata": {},
   "outputs": [],
   "source": [
    "y"
   ]
  },
  {
   "cell_type": "code",
   "execution_count": null,
   "id": "9e510eef",
   "metadata": {},
   "outputs": [],
   "source": [
    "ohe.fit_transform(y).toarray()"
   ]
  },
  {
   "cell_type": "code",
   "execution_count": null,
   "id": "ecb151d5",
   "metadata": {},
   "outputs": [],
   "source": [
    "iris"
   ]
  },
  {
   "cell_type": "code",
   "execution_count": null,
   "id": "fc3281f5",
   "metadata": {},
   "outputs": [],
   "source": [
    "from sklearn.preprocessing import LabelEncoder"
   ]
  },
  {
   "cell_type": "code",
   "execution_count": null,
   "id": "68da9f36",
   "metadata": {},
   "outputs": [],
   "source": [
    "le = LabelEncoder()"
   ]
  },
  {
   "cell_type": "code",
   "execution_count": null,
   "id": "39dd601e",
   "metadata": {},
   "outputs": [],
   "source": [
    "iris['label'] = le.fit_transform(iris['label'])"
   ]
  },
  {
   "cell_type": "code",
   "execution_count": null,
   "id": "585c6cc5",
   "metadata": {},
   "outputs": [],
   "source": [
    "iris"
   ]
  },
  {
   "cell_type": "code",
   "execution_count": null,
   "id": "055f9d91",
   "metadata": {},
   "outputs": [],
   "source": [
    "X = iris.iloc[:,0:4].values"
   ]
  },
  {
   "cell_type": "code",
   "execution_count": null,
   "id": "25bd1ae2",
   "metadata": {},
   "outputs": [],
   "source": [
    "X"
   ]
  },
  {
   "cell_type": "code",
   "execution_count": null,
   "id": "72e0c734",
   "metadata": {},
   "outputs": [],
   "source": [
    "y = iris.iloc[:,4].values"
   ]
  },
  {
   "cell_type": "code",
   "execution_count": null,
   "id": "9cdc4389",
   "metadata": {},
   "outputs": [],
   "source": [
    "y"
   ]
  },
  {
   "cell_type": "code",
   "execution_count": null,
   "id": "dad294b4",
   "metadata": {},
   "outputs": [],
   "source": [
    "from sklearn.model_selection import train_test_split"
   ]
  },
  {
   "cell_type": "code",
   "execution_count": null,
   "id": "4be59f98",
   "metadata": {},
   "outputs": [],
   "source": [
    "X_train,X_test,y_train,y_test = train_test_split(X,y,test_size=0.2,random_state=0)"
   ]
  },
  {
   "cell_type": "markdown",
   "id": "2d4ba070",
   "metadata": {},
   "source": [
    "# StandardScaler"
   ]
  },
  {
   "cell_type": "code",
   "execution_count": null,
   "id": "bb25a30c",
   "metadata": {},
   "outputs": [],
   "source": [
    "from sklearn.preprocessing import StandardScaler"
   ]
  },
  {
   "cell_type": "code",
   "execution_count": null,
   "id": "df13b17c",
   "metadata": {},
   "outputs": [],
   "source": [
    "scaler = StandardScaler()"
   ]
  },
  {
   "cell_type": "code",
   "execution_count": null,
   "id": "365a19f5",
   "metadata": {},
   "outputs": [],
   "source": [
    "X_train = scaler.fit_transform(X_train)"
   ]
  },
  {
   "cell_type": "code",
   "execution_count": null,
   "id": "aade1b2c",
   "metadata": {},
   "outputs": [],
   "source": [
    "X_train"
   ]
  },
  {
   "cell_type": "code",
   "execution_count": null,
   "id": "7bf779ea",
   "metadata": {},
   "outputs": [],
   "source": [
    "X_test = scaler.transform(X_test)"
   ]
  },
  {
   "cell_type": "code",
   "execution_count": null,
   "id": "6c48d843",
   "metadata": {},
   "outputs": [],
   "source": [
    "X_test"
   ]
  },
  {
   "cell_type": "markdown",
   "id": "a130a9fb",
   "metadata": {},
   "source": [
    "# MinMaxScaler"
   ]
  },
  {
   "cell_type": "code",
   "execution_count": null,
   "id": "e67f6043",
   "metadata": {},
   "outputs": [],
   "source": [
    "X = iris.iloc[:,0:4].values\n",
    "y = iris.iloc[:,4].values\n",
    "X_train,X_test,y_train,y_test = train_test_split(X,y,test_size=0.2,random_state=0)"
   ]
  },
  {
   "cell_type": "code",
   "execution_count": null,
   "id": "7d70243f",
   "metadata": {},
   "outputs": [],
   "source": [
    "X_train"
   ]
  },
  {
   "cell_type": "code",
   "execution_count": null,
   "id": "461f726e",
   "metadata": {},
   "outputs": [],
   "source": [
    "from sklearn.preprocessing import MinMaxScaler"
   ]
  },
  {
   "cell_type": "code",
   "execution_count": null,
   "id": "7ac80eaf",
   "metadata": {},
   "outputs": [],
   "source": [
    "min_max_scaler = MinMaxScaler(feature_range=(0,1))"
   ]
  },
  {
   "cell_type": "code",
   "execution_count": null,
   "id": "16b76ce2",
   "metadata": {},
   "outputs": [],
   "source": [
    "X_train_min_max = min_max_scaler.fit_transform(X_train)"
   ]
  },
  {
   "cell_type": "code",
   "execution_count": null,
   "id": "feb80fad",
   "metadata": {},
   "outputs": [],
   "source": [
    "X_train_min_max"
   ]
  },
  {
   "cell_type": "code",
   "execution_count": null,
   "id": "f827f4b3",
   "metadata": {},
   "outputs": [],
   "source": [
    "X_test_min_max = min_max_scaler.transform(X_test)"
   ]
  },
  {
   "cell_type": "markdown",
   "id": "8f7f9434",
   "metadata": {},
   "source": [
    "# MaxABSScaler"
   ]
  },
  {
   "cell_type": "code",
   "execution_count": null,
   "id": "66266de2",
   "metadata": {},
   "outputs": [],
   "source": [
    "from sklearn.preprocessing import MaxAbsScaler"
   ]
  },
  {
   "cell_type": "code",
   "execution_count": null,
   "id": "ba59dc0b",
   "metadata": {},
   "outputs": [],
   "source": [
    "max_abs = MaxAbsScaler()"
   ]
  },
  {
   "cell_type": "code",
   "execution_count": null,
   "id": "743cb6c3",
   "metadata": {},
   "outputs": [],
   "source": [
    "X_train_max_abs = max_abs.fit_transform(X_train)"
   ]
  },
  {
   "cell_type": "code",
   "execution_count": null,
   "id": "f50b8a7e",
   "metadata": {},
   "outputs": [],
   "source": [
    "X_train_max_abs"
   ]
  },
  {
   "cell_type": "code",
   "execution_count": null,
   "id": "d460be42",
   "metadata": {},
   "outputs": [],
   "source": [
    "X_test_max_abs = max_abs.transform(X_test)"
   ]
  },
  {
   "cell_type": "code",
   "execution_count": null,
   "id": "1217e395",
   "metadata": {},
   "outputs": [],
   "source": [
    "X_test_max_abs"
   ]
  },
  {
   "cell_type": "markdown",
   "id": "c66cce8d",
   "metadata": {},
   "source": [
    "# Inputing Missing Values"
   ]
  },
  {
   "cell_type": "code",
   "execution_count": null,
   "id": "dca73683",
   "metadata": {},
   "outputs": [],
   "source": [
    "test = np.array([[1,2],[7,8],[1,8],[np.nan,np.nan]])"
   ]
  },
  {
   "cell_type": "code",
   "execution_count": null,
   "id": "85924113",
   "metadata": {},
   "outputs": [],
   "source": [
    "test"
   ]
  },
  {
   "cell_type": "code",
   "execution_count": null,
   "id": "670253d6",
   "metadata": {},
   "outputs": [],
   "source": [
    "from sklearn.impute import SimpleImputer"
   ]
  },
  {
   "cell_type": "code",
   "execution_count": null,
   "id": "f515d155",
   "metadata": {},
   "outputs": [],
   "source": [
    "imp = SimpleImputer(missing_values=np.nan, strategy='most_frequent')"
   ]
  },
  {
   "cell_type": "code",
   "execution_count": null,
   "id": "e051b4a1",
   "metadata": {},
   "outputs": [],
   "source": [
    "test_1 = imp.fit_transform(test)"
   ]
  },
  {
   "cell_type": "code",
   "execution_count": null,
   "id": "473ee6ee",
   "metadata": {},
   "outputs": [],
   "source": [
    "test_1"
   ]
  },
  {
   "cell_type": "code",
   "execution_count": null,
   "id": "a16b8c42",
   "metadata": {},
   "outputs": [],
   "source": [
    "imp = SimpleImputer(missing_values=np.nan, strategy='mean')"
   ]
  },
  {
   "cell_type": "code",
   "execution_count": null,
   "id": "67854c89",
   "metadata": {},
   "outputs": [],
   "source": [
    "test_2 = imp.fit_transform(test)"
   ]
  },
  {
   "cell_type": "code",
   "execution_count": null,
   "id": "aaa3d429",
   "metadata": {},
   "outputs": [],
   "source": [
    "test_2"
   ]
  },
  {
   "cell_type": "code",
   "execution_count": null,
   "id": "abe20d31",
   "metadata": {},
   "outputs": [],
   "source": [
    "imp = SimpleImputer(missing_values=np.nan, strategy='median')"
   ]
  },
  {
   "cell_type": "code",
   "execution_count": null,
   "id": "3ec75507",
   "metadata": {},
   "outputs": [],
   "source": [
    "test_3 = imp.fit_transform(test)"
   ]
  },
  {
   "cell_type": "code",
   "execution_count": null,
   "id": "285777bf",
   "metadata": {},
   "outputs": [],
   "source": [
    "test_3"
   ]
  },
  {
   "cell_type": "code",
   "execution_count": null,
   "id": "cb4034fe",
   "metadata": {},
   "outputs": [],
   "source": [
    "imp = SimpleImputer(missing_values=np.nan, strategy='constant')"
   ]
  },
  {
   "cell_type": "code",
   "execution_count": null,
   "id": "08a113c5",
   "metadata": {},
   "outputs": [],
   "source": [
    "test_4 = imp.fit_transform(test)"
   ]
  },
  {
   "cell_type": "code",
   "execution_count": null,
   "id": "4e24de4e",
   "metadata": {},
   "outputs": [],
   "source": [
    "test_4"
   ]
  },
  {
   "cell_type": "code",
   "execution_count": null,
   "id": "7e9e42bd",
   "metadata": {},
   "outputs": [],
   "source": []
  }
 ],
 "metadata": {
  "kernelspec": {
   "display_name": "Python 3",
   "language": "python",
   "name": "python3"
  },
  "language_info": {
   "codemirror_mode": {
    "name": "ipython",
    "version": 3
   },
   "file_extension": ".py",
   "mimetype": "text/x-python",
   "name": "python",
   "nbconvert_exporter": "python",
   "pygments_lexer": "ipython3",
   "version": "3.8.8"
  }
 },
 "nbformat": 4,
 "nbformat_minor": 5
}
